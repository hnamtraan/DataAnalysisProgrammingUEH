{
  "nbformat": 4,
  "nbformat_minor": 0,
  "metadata": {
    "colab": {
      "provenance": [],
      "toc_visible": true
    },
    "kernelspec": {
      "name": "python3",
      "display_name": "Python 3"
    },
    "language_info": {
      "name": "python"
    }
  },
  "cells": [
    {
      "cell_type": "markdown",
      "source": [
        "#**Import libraries**"
      ],
      "metadata": {
        "id": "YVrNPABW8EL3"
      }
    },
    {
      "cell_type": "code",
      "execution_count": null,
      "metadata": {
        "id": "hmbEL9A1pA4-"
      },
      "outputs": [],
      "source": [
        "import pandas as pd\n",
        "import numpy as np\n",
        "import warnings\n",
        "warnings.filterwarnings('ignore')\n",
        "\n",
        "import seaborn as sns\n",
        "import plotly.express as px\n",
        "import matplotlib.pyplot as plt\n",
        "\n",
        "import statsmodels.stats.multicomp as smm\n",
        "import scipy.stats as stats\n",
        "from statsmodels.formula.api import ols\n",
        "from statsmodels.stats import weightstats\n",
        "from statsmodels.stats.weightstats import ztest"
      ]
    },
    {
      "cell_type": "markdown",
      "source": [
        "#**Download dataset**"
      ],
      "metadata": {
        "id": "Qiaz9wpM8Nvd"
      }
    },
    {
      "cell_type": "code",
      "source": [
        "#https://drive.google.com/file/d/113Y-jwWvkUHShZg8azynF94k8OpC0ZQ0/view?usp=sharing\n",
        "!gdown --id 113Y-jwWvkUHShZg8azynF94k8OpC0ZQ0"
      ],
      "metadata": {
        "id": "-pPOycyG8SVe",
        "colab": {
          "base_uri": "https://localhost:8080/"
        },
        "outputId": "32e7c4b2-9bad-44ef-8988-49c886882a94"
      },
      "execution_count": null,
      "outputs": [
        {
          "output_type": "stream",
          "name": "stdout",
          "text": [
            "/usr/local/lib/python3.10/dist-packages/gdown/cli.py:121: FutureWarning: Option `--id` was deprecated in version 4.3.1 and will be removed in 5.0. You don't need to pass it anymore to use a file ID.\n",
            "  warnings.warn(\n",
            "Downloading...\n",
            "From: https://drive.google.com/uc?id=113Y-jwWvkUHShZg8azynF94k8OpC0ZQ0\n",
            "To: /content/weatherAUS_cleaned.csv\n",
            "100% 16.0M/16.0M [00:00<00:00, 73.1MB/s]\n"
          ]
        }
      ]
    },
    {
      "cell_type": "markdown",
      "source": [
        "# Review dataset"
      ],
      "metadata": {
        "id": "JEpcTehfBuvU"
      }
    },
    {
      "cell_type": "code",
      "source": [
        "df = pd.read_csv('/content/weatherAUS_cleaned.csv')\n",
        "df.info()"
      ],
      "metadata": {
        "id": "QPm6DmM09AxO",
        "colab": {
          "base_uri": "https://localhost:8080/"
        },
        "outputId": "9f9c6540-9a60-42eb-9590-421b2aa7c1d5"
      },
      "execution_count": null,
      "outputs": [
        {
          "output_type": "stream",
          "name": "stdout",
          "text": [
            "<class 'pandas.core.frame.DataFrame'>\n",
            "RangeIndex: 131941 entries, 0 to 131940\n",
            "Data columns (total 22 columns):\n",
            " #   Column           Non-Null Count   Dtype  \n",
            "---  ------           --------------   -----  \n",
            " 0   Date             131941 non-null  object \n",
            " 1   Location         131941 non-null  object \n",
            " 2   MinTemp          131941 non-null  float64\n",
            " 3   MaxTemp          131941 non-null  float64\n",
            " 4   Rainfall         131941 non-null  float64\n",
            " 5   Sunshine         131941 non-null  float64\n",
            " 6   WindGustDir      131941 non-null  object \n",
            " 7   WindGustSpeed    131941 non-null  float64\n",
            " 8   WindDir9am       131941 non-null  object \n",
            " 9   WindDir3pm       131941 non-null  object \n",
            " 10  WindSpeed9am     131941 non-null  float64\n",
            " 11  WindSpeed3pm     131941 non-null  float64\n",
            " 12  Humidity9am      131941 non-null  float64\n",
            " 13  Humidity3pm      131941 non-null  float64\n",
            " 14  Pressure9am      131941 non-null  float64\n",
            " 15  Pressure3pm      131941 non-null  float64\n",
            " 16  Temp9am          131941 non-null  float64\n",
            " 17  Temp3pm          131941 non-null  float64\n",
            " 18  RainToday        131941 non-null  object \n",
            " 19  RainTomorrow     131941 non-null  object \n",
            " 20  is_RainToday     131941 non-null  float64\n",
            " 21  is_RainTomorrow  131941 non-null  float64\n",
            "dtypes: float64(15), object(7)\n",
            "memory usage: 22.1+ MB\n"
          ]
        }
      ]
    },
    {
      "cell_type": "code",
      "source": [
        "df.head(2)"
      ],
      "metadata": {
        "id": "ns7z74S_9M3N",
        "colab": {
          "base_uri": "https://localhost:8080/",
          "height": 196
        },
        "outputId": "404a98c3-34e1-4f97-f117-0a5f1a76eb98"
      },
      "execution_count": null,
      "outputs": [
        {
          "output_type": "execute_result",
          "data": {
            "text/plain": [
              "         Date Location  MinTemp  MaxTemp  Rainfall  Sunshine WindGustDir  \\\n",
              "0  2008-12-01   Albury     13.4     22.9       0.6  7.624853           W   \n",
              "1  2008-12-02   Albury      7.4     25.1       0.0  7.624853         WNW   \n",
              "\n",
              "   WindGustSpeed WindDir9am WindDir3pm  ...  Humidity9am  Humidity3pm  \\\n",
              "0           44.0          W        WNW  ...         71.0         22.0   \n",
              "1           44.0        NNW        WSW  ...         44.0         25.0   \n",
              "\n",
              "   Pressure9am  Pressure3pm  Temp9am  Temp3pm  RainToday  RainTomorrow  \\\n",
              "0       1007.7       1007.1     16.9     21.8         No            No   \n",
              "1       1010.6       1007.8     17.2     24.3         No            No   \n",
              "\n",
              "  is_RainToday is_RainTomorrow  \n",
              "0          0.0             0.0  \n",
              "1          0.0             0.0  \n",
              "\n",
              "[2 rows x 22 columns]"
            ],
            "text/html": [
              "\n",
              "  <div id=\"df-59fb2e88-dda2-408b-881e-b64d5c545461\" class=\"colab-df-container\">\n",
              "    <div>\n",
              "<style scoped>\n",
              "    .dataframe tbody tr th:only-of-type {\n",
              "        vertical-align: middle;\n",
              "    }\n",
              "\n",
              "    .dataframe tbody tr th {\n",
              "        vertical-align: top;\n",
              "    }\n",
              "\n",
              "    .dataframe thead th {\n",
              "        text-align: right;\n",
              "    }\n",
              "</style>\n",
              "<table border=\"1\" class=\"dataframe\">\n",
              "  <thead>\n",
              "    <tr style=\"text-align: right;\">\n",
              "      <th></th>\n",
              "      <th>Date</th>\n",
              "      <th>Location</th>\n",
              "      <th>MinTemp</th>\n",
              "      <th>MaxTemp</th>\n",
              "      <th>Rainfall</th>\n",
              "      <th>Sunshine</th>\n",
              "      <th>WindGustDir</th>\n",
              "      <th>WindGustSpeed</th>\n",
              "      <th>WindDir9am</th>\n",
              "      <th>WindDir3pm</th>\n",
              "      <th>...</th>\n",
              "      <th>Humidity9am</th>\n",
              "      <th>Humidity3pm</th>\n",
              "      <th>Pressure9am</th>\n",
              "      <th>Pressure3pm</th>\n",
              "      <th>Temp9am</th>\n",
              "      <th>Temp3pm</th>\n",
              "      <th>RainToday</th>\n",
              "      <th>RainTomorrow</th>\n",
              "      <th>is_RainToday</th>\n",
              "      <th>is_RainTomorrow</th>\n",
              "    </tr>\n",
              "  </thead>\n",
              "  <tbody>\n",
              "    <tr>\n",
              "      <th>0</th>\n",
              "      <td>2008-12-01</td>\n",
              "      <td>Albury</td>\n",
              "      <td>13.4</td>\n",
              "      <td>22.9</td>\n",
              "      <td>0.6</td>\n",
              "      <td>7.624853</td>\n",
              "      <td>W</td>\n",
              "      <td>44.0</td>\n",
              "      <td>W</td>\n",
              "      <td>WNW</td>\n",
              "      <td>...</td>\n",
              "      <td>71.0</td>\n",
              "      <td>22.0</td>\n",
              "      <td>1007.7</td>\n",
              "      <td>1007.1</td>\n",
              "      <td>16.9</td>\n",
              "      <td>21.8</td>\n",
              "      <td>No</td>\n",
              "      <td>No</td>\n",
              "      <td>0.0</td>\n",
              "      <td>0.0</td>\n",
              "    </tr>\n",
              "    <tr>\n",
              "      <th>1</th>\n",
              "      <td>2008-12-02</td>\n",
              "      <td>Albury</td>\n",
              "      <td>7.4</td>\n",
              "      <td>25.1</td>\n",
              "      <td>0.0</td>\n",
              "      <td>7.624853</td>\n",
              "      <td>WNW</td>\n",
              "      <td>44.0</td>\n",
              "      <td>NNW</td>\n",
              "      <td>WSW</td>\n",
              "      <td>...</td>\n",
              "      <td>44.0</td>\n",
              "      <td>25.0</td>\n",
              "      <td>1010.6</td>\n",
              "      <td>1007.8</td>\n",
              "      <td>17.2</td>\n",
              "      <td>24.3</td>\n",
              "      <td>No</td>\n",
              "      <td>No</td>\n",
              "      <td>0.0</td>\n",
              "      <td>0.0</td>\n",
              "    </tr>\n",
              "  </tbody>\n",
              "</table>\n",
              "<p>2 rows × 22 columns</p>\n",
              "</div>\n",
              "    <div class=\"colab-df-buttons\">\n",
              "\n",
              "  <div class=\"colab-df-container\">\n",
              "    <button class=\"colab-df-convert\" onclick=\"convertToInteractive('df-59fb2e88-dda2-408b-881e-b64d5c545461')\"\n",
              "            title=\"Convert this dataframe to an interactive table.\"\n",
              "            style=\"display:none;\">\n",
              "\n",
              "  <svg xmlns=\"http://www.w3.org/2000/svg\" height=\"24px\" viewBox=\"0 -960 960 960\">\n",
              "    <path d=\"M120-120v-720h720v720H120Zm60-500h600v-160H180v160Zm220 220h160v-160H400v160Zm0 220h160v-160H400v160ZM180-400h160v-160H180v160Zm440 0h160v-160H620v160ZM180-180h160v-160H180v160Zm440 0h160v-160H620v160Z\"/>\n",
              "  </svg>\n",
              "    </button>\n",
              "\n",
              "  <style>\n",
              "    .colab-df-container {\n",
              "      display:flex;\n",
              "      gap: 12px;\n",
              "    }\n",
              "\n",
              "    .colab-df-convert {\n",
              "      background-color: #E8F0FE;\n",
              "      border: none;\n",
              "      border-radius: 50%;\n",
              "      cursor: pointer;\n",
              "      display: none;\n",
              "      fill: #1967D2;\n",
              "      height: 32px;\n",
              "      padding: 0 0 0 0;\n",
              "      width: 32px;\n",
              "    }\n",
              "\n",
              "    .colab-df-convert:hover {\n",
              "      background-color: #E2EBFA;\n",
              "      box-shadow: 0px 1px 2px rgba(60, 64, 67, 0.3), 0px 1px 3px 1px rgba(60, 64, 67, 0.15);\n",
              "      fill: #174EA6;\n",
              "    }\n",
              "\n",
              "    .colab-df-buttons div {\n",
              "      margin-bottom: 4px;\n",
              "    }\n",
              "\n",
              "    [theme=dark] .colab-df-convert {\n",
              "      background-color: #3B4455;\n",
              "      fill: #D2E3FC;\n",
              "    }\n",
              "\n",
              "    [theme=dark] .colab-df-convert:hover {\n",
              "      background-color: #434B5C;\n",
              "      box-shadow: 0px 1px 3px 1px rgba(0, 0, 0, 0.15);\n",
              "      filter: drop-shadow(0px 1px 2px rgba(0, 0, 0, 0.3));\n",
              "      fill: #FFFFFF;\n",
              "    }\n",
              "  </style>\n",
              "\n",
              "    <script>\n",
              "      const buttonEl =\n",
              "        document.querySelector('#df-59fb2e88-dda2-408b-881e-b64d5c545461 button.colab-df-convert');\n",
              "      buttonEl.style.display =\n",
              "        google.colab.kernel.accessAllowed ? 'block' : 'none';\n",
              "\n",
              "      async function convertToInteractive(key) {\n",
              "        const element = document.querySelector('#df-59fb2e88-dda2-408b-881e-b64d5c545461');\n",
              "        const dataTable =\n",
              "          await google.colab.kernel.invokeFunction('convertToInteractive',\n",
              "                                                    [key], {});\n",
              "        if (!dataTable) return;\n",
              "\n",
              "        const docLinkHtml = 'Like what you see? Visit the ' +\n",
              "          '<a target=\"_blank\" href=https://colab.research.google.com/notebooks/data_table.ipynb>data table notebook</a>'\n",
              "          + ' to learn more about interactive tables.';\n",
              "        element.innerHTML = '';\n",
              "        dataTable['output_type'] = 'display_data';\n",
              "        await google.colab.output.renderOutput(dataTable, element);\n",
              "        const docLink = document.createElement('div');\n",
              "        docLink.innerHTML = docLinkHtml;\n",
              "        element.appendChild(docLink);\n",
              "      }\n",
              "    </script>\n",
              "  </div>\n",
              "\n",
              "\n",
              "<div id=\"df-ec0ecec2-3db3-45c1-9a0e-76567256f4b6\">\n",
              "  <button class=\"colab-df-quickchart\" onclick=\"quickchart('df-ec0ecec2-3db3-45c1-9a0e-76567256f4b6')\"\n",
              "            title=\"Suggest charts\"\n",
              "            style=\"display:none;\">\n",
              "\n",
              "<svg xmlns=\"http://www.w3.org/2000/svg\" height=\"24px\"viewBox=\"0 0 24 24\"\n",
              "     width=\"24px\">\n",
              "    <g>\n",
              "        <path d=\"M19 3H5c-1.1 0-2 .9-2 2v14c0 1.1.9 2 2 2h14c1.1 0 2-.9 2-2V5c0-1.1-.9-2-2-2zM9 17H7v-7h2v7zm4 0h-2V7h2v10zm4 0h-2v-4h2v4z\"/>\n",
              "    </g>\n",
              "</svg>\n",
              "  </button>\n",
              "\n",
              "<style>\n",
              "  .colab-df-quickchart {\n",
              "      --bg-color: #E8F0FE;\n",
              "      --fill-color: #1967D2;\n",
              "      --hover-bg-color: #E2EBFA;\n",
              "      --hover-fill-color: #174EA6;\n",
              "      --disabled-fill-color: #AAA;\n",
              "      --disabled-bg-color: #DDD;\n",
              "  }\n",
              "\n",
              "  [theme=dark] .colab-df-quickchart {\n",
              "      --bg-color: #3B4455;\n",
              "      --fill-color: #D2E3FC;\n",
              "      --hover-bg-color: #434B5C;\n",
              "      --hover-fill-color: #FFFFFF;\n",
              "      --disabled-bg-color: #3B4455;\n",
              "      --disabled-fill-color: #666;\n",
              "  }\n",
              "\n",
              "  .colab-df-quickchart {\n",
              "    background-color: var(--bg-color);\n",
              "    border: none;\n",
              "    border-radius: 50%;\n",
              "    cursor: pointer;\n",
              "    display: none;\n",
              "    fill: var(--fill-color);\n",
              "    height: 32px;\n",
              "    padding: 0;\n",
              "    width: 32px;\n",
              "  }\n",
              "\n",
              "  .colab-df-quickchart:hover {\n",
              "    background-color: var(--hover-bg-color);\n",
              "    box-shadow: 0 1px 2px rgba(60, 64, 67, 0.3), 0 1px 3px 1px rgba(60, 64, 67, 0.15);\n",
              "    fill: var(--button-hover-fill-color);\n",
              "  }\n",
              "\n",
              "  .colab-df-quickchart-complete:disabled,\n",
              "  .colab-df-quickchart-complete:disabled:hover {\n",
              "    background-color: var(--disabled-bg-color);\n",
              "    fill: var(--disabled-fill-color);\n",
              "    box-shadow: none;\n",
              "  }\n",
              "\n",
              "  .colab-df-spinner {\n",
              "    border: 2px solid var(--fill-color);\n",
              "    border-color: transparent;\n",
              "    border-bottom-color: var(--fill-color);\n",
              "    animation:\n",
              "      spin 1s steps(1) infinite;\n",
              "  }\n",
              "\n",
              "  @keyframes spin {\n",
              "    0% {\n",
              "      border-color: transparent;\n",
              "      border-bottom-color: var(--fill-color);\n",
              "      border-left-color: var(--fill-color);\n",
              "    }\n",
              "    20% {\n",
              "      border-color: transparent;\n",
              "      border-left-color: var(--fill-color);\n",
              "      border-top-color: var(--fill-color);\n",
              "    }\n",
              "    30% {\n",
              "      border-color: transparent;\n",
              "      border-left-color: var(--fill-color);\n",
              "      border-top-color: var(--fill-color);\n",
              "      border-right-color: var(--fill-color);\n",
              "    }\n",
              "    40% {\n",
              "      border-color: transparent;\n",
              "      border-right-color: var(--fill-color);\n",
              "      border-top-color: var(--fill-color);\n",
              "    }\n",
              "    60% {\n",
              "      border-color: transparent;\n",
              "      border-right-color: var(--fill-color);\n",
              "    }\n",
              "    80% {\n",
              "      border-color: transparent;\n",
              "      border-right-color: var(--fill-color);\n",
              "      border-bottom-color: var(--fill-color);\n",
              "    }\n",
              "    90% {\n",
              "      border-color: transparent;\n",
              "      border-bottom-color: var(--fill-color);\n",
              "    }\n",
              "  }\n",
              "</style>\n",
              "\n",
              "  <script>\n",
              "    async function quickchart(key) {\n",
              "      const quickchartButtonEl =\n",
              "        document.querySelector('#' + key + ' button');\n",
              "      quickchartButtonEl.disabled = true;  // To prevent multiple clicks.\n",
              "      quickchartButtonEl.classList.add('colab-df-spinner');\n",
              "      try {\n",
              "        const charts = await google.colab.kernel.invokeFunction(\n",
              "            'suggestCharts', [key], {});\n",
              "      } catch (error) {\n",
              "        console.error('Error during call to suggestCharts:', error);\n",
              "      }\n",
              "      quickchartButtonEl.classList.remove('colab-df-spinner');\n",
              "      quickchartButtonEl.classList.add('colab-df-quickchart-complete');\n",
              "    }\n",
              "    (() => {\n",
              "      let quickchartButtonEl =\n",
              "        document.querySelector('#df-ec0ecec2-3db3-45c1-9a0e-76567256f4b6 button');\n",
              "      quickchartButtonEl.style.display =\n",
              "        google.colab.kernel.accessAllowed ? 'block' : 'none';\n",
              "    })();\n",
              "  </script>\n",
              "</div>\n",
              "    </div>\n",
              "  </div>\n"
            ]
          },
          "metadata": {},
          "execution_count": 5
        }
      ]
    },
    {
      "cell_type": "code",
      "source": [
        "categorical_cols = df.select_dtypes(exclude='number').columns.tolist()\n",
        "categorical_cols = categorical_cols[:-1]\n",
        "print('Các cột categorical:')\n",
        "print(categorical_cols)\n",
        "print('----------------------')\n",
        "numerical_cols = df.select_dtypes(exclude='object').columns.tolist()\n",
        "print('Các cột numerical:')\n",
        "print(numerical_cols)"
      ],
      "metadata": {
        "id": "cbeAj47v1CfY",
        "colab": {
          "base_uri": "https://localhost:8080/"
        },
        "outputId": "980642c5-5d6e-465f-a055-02abe9c243a1"
      },
      "execution_count": null,
      "outputs": [
        {
          "output_type": "stream",
          "name": "stdout",
          "text": [
            "Các cột categorical:\n",
            "['Date', 'Location', 'WindGustDir', 'WindDir9am', 'WindDir3pm', 'RainToday']\n",
            "----------------------\n",
            "Các cột numerical:\n",
            "['MinTemp', 'MaxTemp', 'Rainfall', 'Sunshine', 'WindGustSpeed', 'WindSpeed9am', 'WindSpeed3pm', 'Humidity9am', 'Humidity3pm', 'Pressure9am', 'Pressure3pm', 'Temp9am', 'Temp3pm', 'is_RainToday', 'is_RainTomorrow']\n"
          ]
        }
      ]
    },
    {
      "cell_type": "code",
      "source": [
        "df_cat = df.select_dtypes(include='object')"
      ],
      "metadata": {
        "id": "Bw2_DhKpNh7T"
      },
      "execution_count": null,
      "outputs": []
    },
    {
      "cell_type": "code",
      "source": [
        "col_name = df_cat.columns.tolist()\n",
        "for i in col_name:\n",
        "  print(f'{i}:     {df_cat[i].unique()}')"
      ],
      "metadata": {
        "id": "Dcg9YGYDNFSa",
        "colab": {
          "base_uri": "https://localhost:8080/"
        },
        "outputId": "1eee553f-9233-4e67-8400-ce1d338a6e75"
      },
      "execution_count": null,
      "outputs": [
        {
          "output_type": "stream",
          "name": "stdout",
          "text": [
            "Date:     ['2008-12-01' '2008-12-02' '2008-12-03' ... '2008-11-23' '2008-12-13'\n",
            " '2008-11-22']\n",
            "Location:     ['Albury' 'BadgerysCreek' 'Cobar' 'CoffsHarbour' 'Moree' 'Newcastle'\n",
            " 'NorahHead' 'NorfolkIsland' 'Penrith' 'Richmond' 'Sydney' 'SydneyAirport'\n",
            " 'WaggaWagga' 'Williamtown' 'Wollongong' 'Canberra' 'Tuggeranong'\n",
            " 'MountGinini' 'Ballarat' 'Bendigo' 'Sale' 'MelbourneAirport' 'Melbourne'\n",
            " 'Mildura' 'Nhil' 'Portland' 'Watsonia' 'Dartmoor' 'Brisbane' 'Cairns'\n",
            " 'GoldCoast' 'Townsville' 'Adelaide' 'MountGambier' 'Nuriootpa' 'Woomera'\n",
            " 'Albany' 'Witchcliffe' 'PearceRAAF' 'PerthAirport' 'Perth' 'SalmonGums'\n",
            " 'Walpole' 'Hobart' 'Launceston' 'AliceSprings' 'Darwin' 'Katherine'\n",
            " 'Uluru']\n",
            "WindGustDir:     ['W' 'WNW' 'WSW' 'NE' 'N' 'NNE' 'SW' 'ENE' 'SSE' 'S' 'NNW' 'NW' 'SE' 'E'\n",
            " 'SSW' 'ESE']\n",
            "WindDir9am:     ['W' 'NNW' 'SE' 'ENE' 'SW' 'SSE' 'S' 'NE' 'N' 'SSW' 'WSW' 'ESE' 'E' 'NW'\n",
            " 'WNW' 'NNE']\n",
            "WindDir3pm:     ['WNW' 'WSW' 'E' 'NW' 'W' 'SSE' 'ESE' 'ENE' 'SSW' 'SW' 'NNW' 'SE' 'N' 'S'\n",
            " 'NNE' 'NE']\n",
            "RainToday:     ['No' 'Yes']\n",
            "RainTomorrow:     ['No' 'Yes']\n"
          ]
        }
      ]
    },
    {
      "cell_type": "markdown",
      "source": [
        "# Hàm tra trị số z theo phân phối chuẩn"
      ],
      "metadata": {
        "id": "WkypvAl-9aG6"
      }
    },
    {
      "cell_type": "code",
      "source": [
        "## Hàm tính xác suất theo phân phối Z\n",
        "def zDistribution(side, lower, upper):\n",
        "    side = side.lower()\n",
        "    if (side == 'left'):\n",
        "        p = stats.norm.cdf(lower)\n",
        "    elif (side == 'right'):\n",
        "        p = 1 - stats.norm.cdf(upper)\n",
        "    else:\n",
        "        p = stats.norm.cdf(upper) - stats.norm.cdf(lower)\n",
        "    return (p)\n",
        "\n",
        "## Hàm hiển thị xác suất\n",
        "def displayZ(side, lower, upper, p):\n",
        "    side = side.lower()\n",
        "    lower = str(lower)\n",
        "    upper = str(upper)\n",
        "    if (side == 'left'):\n",
        "        s = 'P(Z < ' + lower + ') = '\n",
        "    elif (side == 'right'):\n",
        "        s = 'P(' + upper + ' < Z) = '\n",
        "    else:\n",
        "        s = 'P(' + lower + ' < Z < ' + upper + ') = '\n",
        "    return (s + str('%.4f' %p))"
      ],
      "metadata": {
        "id": "TnPMbPll9e09"
      },
      "execution_count": null,
      "outputs": []
    },
    {
      "cell_type": "markdown",
      "source": [
        "# **Kiểm định z_test**"
      ],
      "metadata": {
        "id": "-XEo1qfh2jiW"
      }
    },
    {
      "cell_type": "markdown",
      "source": [
        "## 1.1. Kiểm định giả thuyết: Nhiệt độ vào ban ngày sẽ ấm hơn ban đêm"
      ],
      "metadata": {
        "id": "H8lTXCMAjDpz"
      }
    },
    {
      "cell_type": "code",
      "source": [
        "tem9am = df['Temp9am']\n",
        "tem3pm = df['Temp3pm']"
      ],
      "metadata": {
        "id": "CoQzORQ-p_XN"
      },
      "execution_count": null,
      "outputs": []
    },
    {
      "cell_type": "code",
      "source": [
        "print(f'Số quan sát của nhóm nhiệt độ lúc 9am: {tem9am.shape[0]}')\n",
        "print(f'Số quan sát của nhóm nhiệt độ lúc 3pm: {tem3pm.shape[0]}')"
      ],
      "metadata": {
        "colab": {
          "base_uri": "https://localhost:8080/"
        },
        "id": "Jm3Y5S-fsqzO",
        "outputId": "241038aa-6eb8-47b0-cdd6-ac4fbf2820b1"
      },
      "execution_count": null,
      "outputs": [
        {
          "output_type": "stream",
          "name": "stdout",
          "text": [
            "Số quan sát của nhóm nhiệt độ lúc 9am: 131941\n",
            "Số quan sát của nhóm nhiệt độ lúc 3pm: 131941\n"
          ]
        }
      ]
    },
    {
      "cell_type": "code",
      "source": [
        "print(f'Giá trị nhiệt độ trung bình lúc 9am: {tem9am.mean():.4f}')\n",
        "print(f'Giá trị nhiệt độ trung bình lúc 3pm: {tem3pm.mean():.4f}')"
      ],
      "metadata": {
        "colab": {
          "base_uri": "https://localhost:8080/"
        },
        "id": "A2QlKYsos8oi",
        "outputId": "1708632e-758c-42ba-d836-fa43de1d3f9b"
      },
      "execution_count": null,
      "outputs": [
        {
          "output_type": "stream",
          "name": "stdout",
          "text": [
            "Giá trị nhiệt độ trung bình lúc 9am: 16.9122\n",
            "Giá trị nhiệt độ trung bình lúc 3pm: 21.8008\n"
          ]
        }
      ]
    },
    {
      "cell_type": "code",
      "source": [
        "alpha = 0.05 # Mức ý nghĩa 5%\n",
        "z3, p3 = ztest(tem9am , value = tem3pm.mean(), alternative = 'larger')\n",
        "print(f'Giá trị z_score: ~ {z3:.4f} \\nGiá trị p_value: ~ {p3}' )"
      ],
      "metadata": {
        "colab": {
          "base_uri": "https://localhost:8080/"
        },
        "id": "lzOFJMuutHrP",
        "outputId": "8c94fc62-f5f9-4d6a-a1e7-2f215dff7753"
      },
      "execution_count": null,
      "outputs": [
        {
          "output_type": "stream",
          "name": "stdout",
          "text": [
            "Giá trị z_score: ~ -279.3686 \n",
            "Giá trị p_value: ~ 1.0\n"
          ]
        }
      ]
    },
    {
      "cell_type": "code",
      "source": [
        "if (p3 < alpha):\n",
        "  print(f'p_value: {p3} =< alpha: {alpha} => Có cơ sở để Bác bỏ giá trị H0 \\n=> Nhiệt độ vào buổi sáng cao hơn buổi tối')\n",
        "else:\n",
        "  print(f'p_value: {p3} > alpha: {alpha} => Không có cơ sở để Bác bỏ giá trị H0 \\n=> Nhiệt độ vào buổi tối cao hơn buổi sáng')"
      ],
      "metadata": {
        "colab": {
          "base_uri": "https://localhost:8080/"
        },
        "id": "Ak_BzXOUtlkp",
        "outputId": "c2759060-4f90-4594-e017-9a490a4e53f4"
      },
      "execution_count": null,
      "outputs": [
        {
          "output_type": "stream",
          "name": "stdout",
          "text": [
            "p_value: 1.0 > alpha: 0.05 => Không có cơ sở để Bác bỏ giá trị H0 \n",
            "=> Nhiệt độ vào buổi tối cao hơn buổi sáng\n"
          ]
        }
      ]
    },
    {
      "cell_type": "markdown",
      "source": [
        "## 1.2. Kiểm định giả thuyết: Ngày hôm nay có mưa không ảnh hưởng đến nhiệt độ tối thiểu\n",
        "H0: μ(`MinTemp`)[`'is_RainToday' == 1`] = μ(`MinTemp`)[`'is_RainToday' == 0`]\n",
        "\n",
        "H1: μ(`MinTemp`)[`'is_RainToday' == 1`] != μ(`MinTemp`)[`'is_RainToday' == 0`]"
      ],
      "metadata": {
        "id": "HcybgH1_356N"
      }
    },
    {
      "cell_type": "code",
      "source": [
        "#kiểm tra tính đối xứng\n",
        "print('Kiểm tra cân bằng')\n",
        "df['is_RainToday'].value_counts()"
      ],
      "metadata": {
        "colab": {
          "base_uri": "https://localhost:8080/"
        },
        "id": "hlj6bP_A2mFj",
        "outputId": "8173dee4-39d0-493b-c004-622dcf2c5586"
      },
      "execution_count": null,
      "outputs": [
        {
          "output_type": "stream",
          "name": "stdout",
          "text": [
            "Kiểm tra cân bằng\n"
          ]
        },
        {
          "output_type": "execute_result",
          "data": {
            "text/plain": [
              "0.0    105497\n",
              "1.0     26444\n",
              "Name: is_RainToday, dtype: int64"
            ]
          },
          "metadata": {},
          "execution_count": 15
        }
      ]
    },
    {
      "cell_type": "code",
      "source": [
        "temp_rain = df[(df['is_RainToday'] == 1)]['MinTemp']\n",
        "temp_nrain = df[(df['is_RainToday'] == 0)]['MinTemp']\n",
        "\n",
        "temp_rain_array = np.array(temp_rain)\n",
        "temp_nrain_array = np.array(temp_nrain)\n",
        "\n",
        "variance_rain = (temp_rain_array).var(ddof = 1)\n",
        "variance_nrain = (temp_nrain_array).var(ddof = 1)\n",
        "\n",
        "print(f'Phương sai nhiệt độ tối thiểu của có mưa hôm nay: {variance_rain:.2f}')\n",
        "print(f'Phương sai nhiệt độ tối thiểu của không có mưa hôm nay: {variance_nrain:.2f}')"
      ],
      "metadata": {
        "colab": {
          "base_uri": "https://localhost:8080/"
        },
        "id": "xUkDkwXr8KG5",
        "outputId": "a372b603-539f-4b40-b424-6dd01f162aff"
      },
      "execution_count": null,
      "outputs": [
        {
          "output_type": "stream",
          "name": "stdout",
          "text": [
            "Phương sai nhiệt độ tối thiểu của có mưa hôm nay: 33.83\n",
            "Phương sai nhiệt độ tối thiểu của không có mưa hôm nay: 41.16\n"
          ]
        }
      ]
    },
    {
      "cell_type": "code",
      "source": [
        "mean_rain = (temp_rain_array).mean()\n",
        "mean_nrain = (temp_nrain_array).mean()\n",
        "print(f'Trung bình nhiệt độ tối thiểu của có mưa hôm nay: {mean_rain:.2f}')\n",
        "print(f'Trung bình nhiệt độ tối thiểu của không có mưa hôm nay: {mean_nrain:.2f}')"
      ],
      "metadata": {
        "colab": {
          "base_uri": "https://localhost:8080/"
        },
        "id": "IBibW9biUAe7",
        "outputId": "6d5213e2-84d6-4391-9c90-7871bbd98459"
      },
      "execution_count": null,
      "outputs": [
        {
          "output_type": "stream",
          "name": "stdout",
          "text": [
            "Trung bình nhiệt độ tối thiểu của có mưa hôm nay: 12.66\n",
            "Trung bình nhiệt độ tối thiểu của không có mưa hôm nay: 11.90\n"
          ]
        }
      ]
    },
    {
      "cell_type": "code",
      "execution_count": null,
      "metadata": {
        "id": "cYPBjUHr90li",
        "colab": {
          "base_uri": "https://localhost:8080/"
        },
        "outputId": "d95fc8f9-50d1-46ad-c4e9-75f8c8ba8446"
      },
      "outputs": [
        {
          "output_type": "stream",
          "name": "stdout",
          "text": [
            "Trị số p = 0.0000 < 0.05 nên Có cơ sở để Bác bỏ H0.\n",
            "=> μ[rain] != μ[nrain]\n"
          ]
        }
      ],
      "source": [
        "alpha = 0.05\n",
        "confidence_level = 1 - alpha\n",
        "\n",
        "col1 = weightstats.DescrStatsW(temp_rain)\n",
        "col2 = weightstats.DescrStatsW(temp_nrain)\n",
        "cm_obj = weightstats.CompareMeans(col1, col2)\n",
        "z, p = cm_obj.ztest_ind(usevar='unequal')\n",
        "if (p < alpha):\n",
        "    print(f'Trị số p = {p:.4f} < {alpha} nên Có cơ sở để Bác bỏ H0.\\n=> μ[rain] != μ[nrain]')\n",
        "else:\n",
        "    print(f'Trị số p = {p:.4f} >= {alpha} nên Có cơ sở để Chấp nhận H0.\\n=> μ[rain] == μ[nrain]')"
      ]
    },
    {
      "cell_type": "code",
      "source": [
        "print(f'Giá trị z: {z:.4f}')"
      ],
      "metadata": {
        "colab": {
          "base_uri": "https://localhost:8080/"
        },
        "id": "i9kteT12Uiov",
        "outputId": "d91d7c64-f9b0-4411-b17a-a31b7b833ef0"
      },
      "execution_count": null,
      "outputs": [
        {
          "output_type": "stream",
          "name": "stdout",
          "text": [
            "Giá trị z: 18.6695\n"
          ]
        }
      ]
    },
    {
      "cell_type": "markdown",
      "source": [
        "## 1.3. Kiểm định giả thuyết: \"Tốc độ gió có khả năng dự báo mưa trong tương lai gần\""
      ],
      "metadata": {
        "id": "wVKSPMP6MxW2"
      }
    },
    {
      "cell_type": "code",
      "source": [
        "# Kiểm định giả thuyết\n",
        "# H0: muy[No] = muy[Yes]\n",
        "# H1: muy[No] != muy[Yes]"
      ],
      "metadata": {
        "id": "L8DzI99bJw-i"
      },
      "execution_count": null,
      "outputs": []
    },
    {
      "cell_type": "code",
      "source": [
        "rain = df.loc[df['Rainfall'] == 0]['WindGustSpeed']\n",
        "no_rain = df.loc[df['Rainfall'] != 0]['WindGustSpeed']\n",
        "print(f'Số quan sát của nhóm có mưa: {rain.shape[0]}')\n",
        "print(f'Số quan sát của nhóm không có mưa: {no_rain.shape[0]}')"
      ],
      "metadata": {
        "id": "MlGwGXBnMwzB",
        "colab": {
          "base_uri": "https://localhost:8080/"
        },
        "outputId": "7d9a7a98-0446-474c-938e-72fa256fb463"
      },
      "execution_count": null,
      "outputs": [
        {
          "output_type": "stream",
          "name": "stdout",
          "text": [
            "Số quan sát của nhóm có mưa: 86236\n",
            "Số quan sát của nhóm không có mưa: 45705\n"
          ]
        }
      ]
    },
    {
      "cell_type": "code",
      "source": [
        "#Tính trung bình 2 nhóm\n",
        "print(f'Giá trị trung bình tốc độ gió của nhóm có mưa: {rain.mean():.4f}')\n",
        "print(f'Giá trị trung bình tốc độ gió nhóm không có mưa: {no_rain.mean():.4f}')"
      ],
      "metadata": {
        "colab": {
          "base_uri": "https://localhost:8080/"
        },
        "id": "c2J_6Nl-Em5J",
        "outputId": "2377484a-0a90-439c-9c05-58571142fd3f"
      },
      "execution_count": null,
      "outputs": [
        {
          "output_type": "stream",
          "name": "stdout",
          "text": [
            "Giá trị trung bình tốc độ gió của nhóm có mưa: 38.1180\n",
            "Giá trị trung bình tốc độ gió nhóm không có mưa: 40.0699\n"
          ]
        }
      ]
    },
    {
      "cell_type": "code",
      "source": [
        "alpha = 0.05 # Mức ý nghĩa 5%\n",
        "z1, p1 = ztest(rain , value = no_rain.mean(), alternative='two-sided')\n",
        "print(f'Giá trị z_score ~ {z1:.4f} \\nGiá trị p_value ~ {p1}' )"
      ],
      "metadata": {
        "colab": {
          "base_uri": "https://localhost:8080/"
        },
        "id": "B3yxxtQIFZzZ",
        "outputId": "9ac1b232-ac9b-45be-ffb8-98e2b6a3ad09"
      },
      "execution_count": null,
      "outputs": [
        {
          "output_type": "stream",
          "name": "stdout",
          "text": [
            "Giá trị z_score ~ -51.2867 \n",
            "Giá trị p_value ~ 0.0\n"
          ]
        }
      ]
    },
    {
      "cell_type": "code",
      "source": [
        "if (p1 < alpha):\n",
        "  print(f'p_value: {p1} =< alpha: {alpha} => Có cơ sở để Bác bỏ giá trị H0 \\n=> Tốc độ gió có giả năng dự đoán mưa trong tương lai gần')\n",
        "else:\n",
        "  print(f'p_value: {p1} > alpha: {alpha} => Không có sở sở để Bác bỏ giá trị H0 \\n=> Tốc độ gió không có giả năng dự đoán mưa trong tương lai gần')"
      ],
      "metadata": {
        "colab": {
          "base_uri": "https://localhost:8080/"
        },
        "id": "tvY9gcA5GPR3",
        "outputId": "1df46f40-25a1-4723-efb6-f30039bb5d79"
      },
      "execution_count": null,
      "outputs": [
        {
          "output_type": "stream",
          "name": "stdout",
          "text": [
            "p_value: 0.0 =< alpha: 0.05 => Có cơ sở để Bác bỏ giá trị H0 \n",
            "=> Tốc độ gió có giả năng dự đoán mưa trong tương lai gần\n"
          ]
        }
      ]
    },
    {
      "cell_type": "code",
      "source": [
        "# Kiểm định giả thuyết\n",
        "# H0: muy[No] = muy[Yes]\n",
        "# H1: Có ít nhất một muy != phần còn lại"
      ],
      "metadata": {
        "id": "PaIHLForLN3m"
      },
      "execution_count": null,
      "outputs": []
    },
    {
      "cell_type": "markdown",
      "source": [
        "## 1.4. Kiểm định giả thuyết: \"Áp suất vào ban đêm có khả năng dự báo mưa trong tương lai gần\""
      ],
      "metadata": {
        "id": "WBAjRJn0gc5V"
      }
    },
    {
      "cell_type": "code",
      "source": [
        "# Kiểm định giả thuyết\n",
        "# H0: muy[No] = muy[Yes]\n",
        "# H1: muy[No] != muy[Yes]"
      ],
      "metadata": {
        "id": "gkx1CLmrgc5W"
      },
      "execution_count": null,
      "outputs": []
    },
    {
      "cell_type": "code",
      "source": [
        "rain = df.loc[(df['RainTomorrow'] == 'Yes')]['Pressure3pm']\n",
        "no_rain = df.loc[(df['RainTomorrow'] == 'No')]['Pressure3pm']\n",
        "print(f'Số quan sát của nhóm có mưa: {rain.shape[0]}')\n",
        "print(f'Số quan sát của nhóm không có mưa: {no_rain.shape[0]}')"
      ],
      "metadata": {
        "colab": {
          "base_uri": "https://localhost:8080/"
        },
        "outputId": "7124c352-949e-4a0a-9590-0080cf82d6bc",
        "id": "0_fRU2mGgc5W"
      },
      "execution_count": null,
      "outputs": [
        {
          "output_type": "stream",
          "name": "stdout",
          "text": [
            "Số quan sát của nhóm có mưa: 26791\n",
            "Số quan sát của nhóm không có mưa: 105150\n"
          ]
        }
      ]
    },
    {
      "cell_type": "code",
      "source": [
        "# Tính trung bình 2 nhóm\n",
        "print(f'Giá trị trung bình áp suất vào ban đêm của nhóm có mưa: {rain.mean():.4f}')\n",
        "print(f'Giá trị trung bình áp suất vào ban đêm nhóm không có mưa: {no_rain.mean():.4f}')\n"
      ],
      "metadata": {
        "colab": {
          "base_uri": "https://localhost:8080/"
        },
        "outputId": "5ad03fab-c647-4644-ce9f-1973f844f625",
        "id": "ZS6vtOSXgc5W"
      },
      "execution_count": null,
      "outputs": [
        {
          "output_type": "stream",
          "name": "stdout",
          "text": [
            "Giá trị trung bình áp suất vào ban đêm của nhóm có mưa: 1013.2946\n",
            "Giá trị trung bình áp suất vào ban đêm nhóm không có mưa: 1016.2044\n"
          ]
        }
      ]
    },
    {
      "cell_type": "code",
      "source": [
        "alpha = 0.05 # Mức ý nghĩa 5%\n",
        "z1, p1 = ztest(rain , value = no_rain.mean())\n",
        "print(f'Giá trị z_score: {z1:.4f} \\nGiá trị p_value: {p1}' )"
      ],
      "metadata": {
        "colab": {
          "base_uri": "https://localhost:8080/"
        },
        "outputId": "8aa0777a-ba80-4af7-ec50-cb19ed6aa98a",
        "id": "dDgwCuykgc5W"
      },
      "execution_count": null,
      "outputs": [
        {
          "output_type": "stream",
          "name": "stdout",
          "text": [
            "Giá trị z_score: -73.8934 \n",
            "Giá trị p_value: 0.0\n"
          ]
        }
      ]
    },
    {
      "cell_type": "code",
      "source": [
        "if (p1 < alpha):\n",
        "  print(f'p_value: {p1} =< alpha: {alpha} =>  Có cơ sở để Bác bỏ giá trị H0 \\n=> Áp suất vào ban đêm có giả năng dự đoán mưa trong tương lai gần')\n",
        "else:\n",
        "  print(f'p_value: {p1} > alpha: {alpha} => Không có sở sở để Bác bỏ giá trị H0 \\n=> Áp suất vào ban đêm không có giả năng dự đoán mưa trong tương lai gần')"
      ],
      "metadata": {
        "colab": {
          "base_uri": "https://localhost:8080/"
        },
        "outputId": "642071c2-9771-4995-b710-f4ae94eb4ab0",
        "id": "KcrDwE_wgc5W"
      },
      "execution_count": null,
      "outputs": [
        {
          "output_type": "stream",
          "name": "stdout",
          "text": [
            "p_value: 0.0 =< alpha: 0.05 =>  Có cơ sở để Bác bỏ giá trị H0 \n",
            "=> Áp suất vào ban đêm có giả năng dự đoán mưa trong tương lai gần\n"
          ]
        }
      ]
    },
    {
      "cell_type": "code",
      "source": [
        "# Kiểm định giả thuyết\n",
        "# H0: muy[No] = muy[Yes]\n",
        "# H1: Có ít nhất một muy != phần còn lại"
      ],
      "metadata": {
        "id": "bkDLSx3jgc5X"
      },
      "execution_count": null,
      "outputs": []
    },
    {
      "cell_type": "markdown",
      "source": [
        "## 1.5.Kiểm định giả thuyết: Tốc độ gió vào buổi tối sẽ mạnh hơn vào buổi sáng"
      ],
      "metadata": {
        "id": "oA1wM5UjiTcX"
      }
    },
    {
      "cell_type": "code",
      "source": [
        "wind9am = df['WindSpeed9am']\n",
        "wind3pm = df['WindSpeed3pm']"
      ],
      "metadata": {
        "id": "6ZdSJkZUh9WI"
      },
      "execution_count": null,
      "outputs": []
    },
    {
      "cell_type": "code",
      "source": [
        "print(f'Số quan sát của nhóm tốc độ gió lúc 9am: {wind9am.shape[0]}')\n",
        "print(f'Số quan sát của nhóm tốc độ gió lúc 3pm: {wind3pm.shape[0]}')"
      ],
      "metadata": {
        "colab": {
          "base_uri": "https://localhost:8080/"
        },
        "id": "qltZBsQ9m4sm",
        "outputId": "cfd95d1d-c047-4af8-a0c1-9d74c6dd871d"
      },
      "execution_count": null,
      "outputs": [
        {
          "output_type": "stream",
          "name": "stdout",
          "text": [
            "Số quan sát của nhóm tốc độ gió lúc 9am: 131941\n",
            "Số quan sát của nhóm tốc độ gió lúc 3pm: 131941\n"
          ]
        }
      ]
    },
    {
      "cell_type": "code",
      "source": [
        "#Tính trung bình 2 nhóm\n",
        "print(f'Giá trị trung bình tốc độ gió lúc 9am: {wind9am.mean():.4f}')\n",
        "print(f'Giá trị trung bình tốc độ gió lúc 3pm: {wind3pm.mean():.4f}')"
      ],
      "metadata": {
        "colab": {
          "base_uri": "https://localhost:8080/"
        },
        "id": "zVaJEdJqnf_e",
        "outputId": "2a6a3517-892c-4ed2-f279-579a5b330978"
      },
      "execution_count": null,
      "outputs": [
        {
          "output_type": "stream",
          "name": "stdout",
          "text": [
            "Giá trị trung bình tốc độ gió lúc 9am: 13.4474\n",
            "Giá trị trung bình tốc độ gió lúc 3pm: 18.1476\n"
          ]
        }
      ]
    },
    {
      "cell_type": "code",
      "source": [
        "alpha = 0.05 # Mức ý nghĩa 5%\n",
        "z2, p2 = ztest(wind3pm , value = wind9am.mean(), alternative = 'larger')\n",
        "print(f'Giá trị z_score: ~ {z2:.4f} \\nGiá trị p_value: ~ {p2}' )"
      ],
      "metadata": {
        "colab": {
          "base_uri": "https://localhost:8080/"
        },
        "id": "f_sVn-NEns4Q",
        "outputId": "796f3bea-a249-41c6-d6b2-cdcec19db6ab"
      },
      "execution_count": null,
      "outputs": [
        {
          "output_type": "stream",
          "name": "stdout",
          "text": [
            "Giá trị z_score: ~ 210.3321 \n",
            "Giá trị p_value: ~ 0.0\n"
          ]
        }
      ]
    },
    {
      "cell_type": "code",
      "source": [
        "if (p2 < alpha):\n",
        "  print(f'p_value: {p2} =< alpha: {alpha} => Có cơ sở để Bác bỏ giá trị H0 \\n=> Tốc độ gió vào buổi tối mạnh hơn buổi sáng')\n",
        "else:\n",
        "  print(f'p_value: {p2} > alpha: {alpha} => Không có sở sở để Bác bỏ giá trị H0 \\n=> Tốc độ gió vào buổi tối yếu hơn buổi sáng')"
      ],
      "metadata": {
        "colab": {
          "base_uri": "https://localhost:8080/"
        },
        "id": "ZGt505nIovsf",
        "outputId": "1ab8098c-994f-4b91-9ef4-033f57893b3b"
      },
      "execution_count": null,
      "outputs": [
        {
          "output_type": "stream",
          "name": "stdout",
          "text": [
            "p_value: 0.0 =< alpha: 0.05 => Có cơ sở để Bác bỏ giá trị H0 \n",
            "=> Tốc độ gió vào buổi tối mạnh hơn buổi sáng\n"
          ]
        }
      ]
    },
    {
      "cell_type": "markdown",
      "source": [
        "# **Kiểm định Chi-Squared**"
      ],
      "metadata": {
        "id": "rr2nnaDsxcgl"
      }
    },
    {
      "cell_type": "code",
      "source": [
        "##----------------------------------------------------\n",
        "## Các giả thuyết kiểm định\n",
        "##    H0: Mùa và Có mưa là ĐỘC LẬP\n",
        "##    Ha: Mùa và Có mưa là PHỤ THUỘC lẫn nhau\n",
        "##----------------------------------------------------\n",
        "alpha            = .05\n",
        "confidence_level = (1 - alpha)"
      ],
      "metadata": {
        "id": "ow-f5Zk01KTf"
      },
      "execution_count": null,
      "outputs": []
    },
    {
      "cell_type": "code",
      "source": [
        "direction_mapping = {'W': 'West', 'WNW': 'West', 'NE': 'North', 'N':'North',\n",
        "                     'SSE':'South', 'S':'South', 'SW':'South', 'NNW':'North',\n",
        "                     'SE':'South', 'WSW':'West', 'NNE':'North','E':'East',\n",
        "                     'NW':'North', 'SSW':'South', 'ESE':'East', 'ENE':'East'}\n",
        "df['WindGustDir'] = df['WindGustDir'].map(direction_mapping)\n",
        "windD_counts = df['WindGustDir'].value_counts()\n",
        "windD_per = windD_counts/df.shape[0]"
      ],
      "metadata": {
        "id": "6jr3dWVNBJtm"
      },
      "execution_count": null,
      "outputs": []
    },
    {
      "cell_type": "code",
      "source": [
        "chi2_test = pd.crosstab(df['WindGustDir'], df['RainToday'])\n",
        "print(chi2_test)"
      ],
      "metadata": {
        "colab": {
          "base_uri": "https://localhost:8080/"
        },
        "id": "sB5JiKDGvJJS",
        "outputId": "4badaab5-7cde-47f6-e402-d3b4407e3f19"
      },
      "execution_count": null,
      "outputs": [
        {
          "output_type": "stream",
          "name": "stdout",
          "text": [
            "RainToday       No   Yes\n",
            "WindGustDir             \n",
            "East         20066  3190\n",
            "North        29113  5341\n",
            "South        32242  9661\n",
            "West         24076  8252\n"
          ]
        }
      ]
    },
    {
      "cell_type": "code",
      "source": [
        "chi2_test = pd.crosstab(df['WindGustDir'], df['RainToday'])\n",
        "chi2_test.reset_index(inplace = True)\n",
        "print(chi2_test)"
      ],
      "metadata": {
        "id": "6K1sKmWvxlfi",
        "colab": {
          "base_uri": "https://localhost:8080/"
        },
        "outputId": "7de384d5-ee0a-4152-fed2-a047c2c18884"
      },
      "execution_count": null,
      "outputs": [
        {
          "output_type": "stream",
          "name": "stdout",
          "text": [
            "RainToday WindGustDir     No   Yes\n",
            "0                East  20066  3190\n",
            "1               North  29113  5341\n",
            "2               South  32242  9661\n",
            "3                West  24076  8252\n"
          ]
        }
      ]
    },
    {
      "cell_type": "code",
      "source": [
        "chi2_test = chi2_test.drop(columns = 'WindGustDir')\n",
        "stat, p, dof, expected = stats.chi2_contingency(chi2_test)\n",
        "print(f'Giá trị p_value ~ {p} \\nTrị số thống kê ~ {stat:.4f}')"
      ],
      "metadata": {
        "id": "GzGC4TRp1ge2",
        "colab": {
          "base_uri": "https://localhost:8080/"
        },
        "outputId": "5b79b981-de29-443e-f419-05248ba7c1ec"
      },
      "execution_count": null,
      "outputs": [
        {
          "output_type": "stream",
          "name": "stdout",
          "text": [
            "Giá trị p_value ~ 0.0 \n",
            "Trị số thống kê ~ 1867.8903\n"
          ]
        }
      ]
    },
    {
      "cell_type": "code",
      "source": [
        "if (p < alpha):\n",
        "    print(f'Trị số p = {p:} < {alpha:.4f} nên CÓ cơ sở để Bác bỏ H0 \\n==> (WindGustDir, RainToday) PHỤ THUỘC')\n",
        "else:\n",
        "    print(f'Trị số p = {p:} >= {alpha:.4f} nến KHÔNG có cơ sở để bác bỏ H0 \\n==> (WindGustDir, giới tính) ĐỘC LẬP')"
      ],
      "metadata": {
        "colab": {
          "base_uri": "https://localhost:8080/"
        },
        "id": "bNq6PP2H1vE-",
        "outputId": "52d11a6f-ebb4-4d52-c08c-ca24b712d63b"
      },
      "execution_count": null,
      "outputs": [
        {
          "output_type": "stream",
          "name": "stdout",
          "text": [
            "Trị số p = 0.0 < 0.0500 nên CÓ cơ sở để Bác bỏ H0 \n",
            "==> (WindGustDir, RainToday) PHỤ THUỘC\n"
          ]
        }
      ]
    }
  ]
}